{
 "cells": [
  {
   "cell_type": "markdown",
   "metadata": {},
   "source": [
    "# Import all the required modules like numpy,tensorflow,cv2,pil"
   ]
  },
  {
   "cell_type": "code",
   "execution_count": 5,
   "metadata": {},
   "outputs": [],
   "source": [
    "import PIL\n",
    "from PIL import Image\n",
    "import numpy as np\n",
    "import random\n",
    "import os\n",
    "import glob\n",
    "import fnmatch\n",
    "import cv2\n",
    "from PIL import ImageFile\n",
    "from scipy.ndimage.filters import gaussian_filter\n",
    "from scipy import ndimage\n",
    "import numpy as np\n",
    "import sys\n",
    "import tensorflow as tf\n",
    "import matplotlib.pyplot as plt\n",
    "#from PIL import Image, ImageFile\n",
    "from sklearn.cluster import KMeans\n",
    "import pickle\n",
    "import imagehash\n",
    "from IPython.display import Image,display"
   ]
  },
  {
   "cell_type": "markdown",
   "metadata": {},
   "source": [
    "# Define current directory , data directory"
   ]
  },
  {
   "cell_type": "code",
   "execution_count": 2,
   "metadata": {},
   "outputs": [],
   "source": [
    "current_directory = os.getcwd()\n",
    "main_dir = '/home/aditya101993'\n",
    "data_dir = current_directory + '/data/celebA'"
   ]
  },
  {
   "cell_type": "code",
   "execution_count": 3,
   "metadata": {},
   "outputs": [
    {
     "name": "stdout",
     "output_type": "stream",
     "text": [
      "/home/aditya101993/valid\n"
     ]
    }
   ],
   "source": [
    "%cd $main_dir/valid"
   ]
  },
  {
   "cell_type": "code",
   "execution_count": null,
   "metadata": {},
   "outputs": [],
   "source": [
    "%cd $data_dir"
   ]
  },
  {
   "cell_type": "markdown",
   "metadata": {},
   "source": [
    "# Fetch all the jpegs from the data directory"
   ]
  },
  {
   "cell_type": "code",
   "execution_count": null,
   "metadata": {},
   "outputs": [],
   "source": [
    "path = '/home/aditya101993/celeb/data/celebA'\n",
    "\n",
    "configfiles = [os.path.join(subdir,f)\n",
    "for subdir, dirs, files in os.walk(path)\n",
    "    for f in fnmatch.filter(files, '*.jpg')]"
   ]
  },
  {
   "cell_type": "markdown",
   "metadata": {},
   "source": [
    "# Preprocess the data by resize, converting into an array and rescale the image and define the get_batch function"
   ]
  },
  {
   "cell_type": "code",
   "execution_count": 7,
   "metadata": {},
   "outputs": [],
   "source": [
    "def resize(img, output_shape = (32, 32)):\n",
    "     return img.resize(output_shape, PIL.Image.ANTIALIAS)\n",
    "        #return cv2.resize(img, output_shape) "
   ]
  },
  {
   "cell_type": "code",
   "execution_count": 8,
   "metadata": {},
   "outputs": [],
   "source": [
    "def rescale(A, method=1):\n",
    "    if 1== method:  \n",
    "        return A / float(A.max())"
   ]
  },
  {
   "cell_type": "code",
   "execution_count": 9,
   "metadata": {},
   "outputs": [],
   "source": [
    "def img2array(img, dtype=np.float32):\n",
    "    return np.array(img, dtype=dtype)"
   ]
  },
  {
   "cell_type": "code",
   "execution_count": 10,
   "metadata": {},
   "outputs": [],
   "source": [
    "def get_batch(configfiles,ibatch, batch_size=100):    \n",
    "    \n",
    "    ibatch = ibatch % len(configfiles)\n",
    "    \n",
    "    image_name_list_batch = configfiles[ibatch:ibatch+batch_size]\n",
    "    \n",
    "       # print(image_name_list_batch)\n",
    "    import PIL.Image     \n",
    "    \n",
    "    img_data_list = []\n",
    "    for image_name in image_name_list_batch:\n",
    "        ImageFile.LOAD_TRUNCATED_IMAGES = True\n",
    "        img = PIL.Image.open(image_name)\n",
    "        img = resize(img)\n",
    "        img_data_list += [rescale( img2array(img) )]\n",
    "        \n",
    "    X_batch = np.asanyarray(img_data_list)\n",
    "    return (X_batch)"
   ]
  },
  {
   "cell_type": "code",
   "execution_count": null,
   "metadata": {},
   "outputs": [],
   "source": [
    "len(configfiles)"
   ]
  },
  {
   "cell_type": "markdown",
   "metadata": {},
   "source": [
    "# CNN Auto Encoder Decoder Model"
   ]
  },
  {
   "cell_type": "code",
   "execution_count": null,
   "metadata": {},
   "outputs": [],
   "source": [
    "#learning_rate = 0.001\n",
    "inputs_ = tf.placeholder(tf.float32,[None,32,32,3])\n",
    "targets_ = tf.placeholder(tf.float32,[None,32,32,3])"
   ]
  },
  {
   "cell_type": "code",
   "execution_count": null,
   "metadata": {},
   "outputs": [],
   "source": [
    "def lrelu(x,alpha=0.1):\n",
    "    return tf.maximum(alpha*x,x)"
   ]
  },
  {
   "cell_type": "markdown",
   "metadata": {},
   "source": [
    "## Encoder"
   ]
  },
  {
   "cell_type": "code",
   "execution_count": null,
   "metadata": {},
   "outputs": [],
   "source": [
    "### Encoder\n",
    "with tf.name_scope('en-convolutions'):\n",
    "    conv1 = tf.layers.conv2d(inputs_,filters=4,kernel_size=(3,3),strides=(1,1),padding='SAME',use_bias=True,activation=lrelu,name='conv1')\n",
    "# Now 32x32x4\n",
    "with tf.name_scope('en-pooling'):\n",
    "    maxpool1 = tf.layers.max_pooling2d(conv1,pool_size=(2,2),strides=(2,2),name='pool1')\n",
    "# Now 16x16x4\n",
    "with tf.name_scope('en-convolutions'):\n",
    "    conv2 = tf.layers.conv2d(maxpool1,filters=8,kernel_size=(3,3),strides=(1,1),padding='SAME',use_bias=True,activation=lrelu,name='conv2')\n",
    "# Now 16x16x8\n",
    "with tf.name_scope('en-pooling'):\n",
    "    maxpool2 = tf.layers.max_pooling2d(conv2,pool_size=(2,2),strides=(2,2),name='pool2')\n",
    "# Now 8x8x8\n",
    "with tf.name_scope('en-convolutions'):\n",
    "    conv3 = tf.layers.conv2d(maxpool2,filters=16,kernel_size=(3,3),strides=(1,1),padding='SAME',use_bias=True,activation=lrelu,name='conv3')\n",
    "# Now 8x8x16\n",
    "with tf.name_scope('encoding'):\n",
    "    encoded = tf.layers.average_pooling2d(conv3,pool_size=(2,2),strides=(2,2),name='encoding')\n",
    "# Now 4x4x16.\n",
    "#latent space"
   ]
  },
  {
   "cell_type": "markdown",
   "metadata": {},
   "source": [
    "## Decoder"
   ]
  },
  {
   "cell_type": "code",
   "execution_count": null,
   "metadata": {},
   "outputs": [],
   "source": [
    "### Decoder\n",
    "with tf.name_scope('decoder'):\n",
    "    upsample1 = tf.layers.conv2d_transpose(encoded,filters=16,kernel_size=3,padding='same',strides=2,name='upsample1')\n",
    "# Now 8x8x16\n",
    "    conv4 = upsample1 #tf.layers.conv2d(upsample1,filters=16,kernel_size=(3,3),strides=(1,1),padding='SAME',name='conv4',use_bias=True,activation=lrelu)\n",
    "# Now 8x8x16\n",
    "    upsample2 = tf.layers.conv2d_transpose(conv4,filters=8,kernel_size=3,padding='same',strides=2,name='upsample2')\n",
    "# Now 16x16x8\n",
    "    conv5 = upsample2 #tf.layers.conv2d(upsample2,filters=8,kernel_size=(3,3),strides=(1,1),name='conv5',padding='SAME',use_bias=True,activation=lrelu)\n",
    "# Now 16x16x8\n",
    "    upsample3 = tf.layers.conv2d_transpose(conv5,filters=8,kernel_size=5,padding='same',strides=2,name='upsample3')\n",
    "# Now 32x32x8\n",
    "    conv6 = tf.layers.conv2d(upsample3,filters=4,kernel_size=(5,5),strides=(1,1),name='conv6',padding='SAME',use_bias=True,activation=lrelu)\n",
    "# Now 32x32x4\n",
    "    logits = tf.layers.conv2d(conv6,filters=3,kernel_size=(3,3),strides=(1,1),name='logits',padding='SAME',use_bias=True)\n",
    "#Now 32x32x3\n",
    "# Pass logits through sigmoid to get reconstructed image\n",
    "    decoded = tf.sigmoid(logits,name='recon')"
   ]
  },
  {
   "cell_type": "markdown",
   "metadata": {},
   "source": [
    "## Define loss and optimiser"
   ]
  },
  {
   "cell_type": "code",
   "execution_count": null,
   "metadata": {},
   "outputs": [],
   "source": [
    "loss = tf.nn.sigmoid_cross_entropy_with_logits(logits=logits,labels=targets_)\n",
    "\n",
    "learning_rate=tf.placeholder(tf.float32)\n",
    "cost = tf.reduce_mean(loss) #cost\n",
    "opt = tf.train.AdamOptimizer(learning_rate).minimize(cost) #optimizer"
   ]
  },
  {
   "cell_type": "markdown",
   "metadata": {},
   "source": [
    "## Train model, save model, graph and store embeddings of images in list "
   ]
  },
  {
   "cell_type": "code",
   "execution_count": null,
   "metadata": {},
   "outputs": [],
   "source": [
    "# Training\n",
    "\n",
    "sess = tf.Session()\n",
    "#tf.reset_default_graph()\n",
    "\n",
    "saver = tf.train.Saver()\n",
    "\n",
    "\n",
    "#tf.summary.scalar(\"loss\", cost)\n",
    "#merged_summary_op = tf.summary.merge_all()\n",
    "\n",
    "\n",
    "\n",
    "epochs = 2\n",
    "batch_size = 64\n",
    "#lr=[1e-3/(2**(i//20)) for i in range(epochs)]\n",
    "lr=1e-3\n",
    "sess.run(tf.global_variables_initializer())\n",
    "writer = tf.summary.FileWriter('./graphs', sess.graph)\n",
    "#summary_writer = tf.summary.FileWriter('./writer', graph=tf.get_default_graph())\n",
    "for e in range(epochs):\n",
    "    for ibatch in range(0, len(configfiles), batch_size):\n",
    "        X_batch = get_batch(configfiles, ibatch, batch_size=batch_size)\n",
    "        imgs = X_batch[0].reshape((-1, 32, 32, 3))\n",
    "        batch_cost, _ = sess.run([cost, opt], feed_dict={inputs_: imgs,\n",
    "                                                         targets_: imgs,learning_rate:lr})\n",
    "        \n",
    "        #summary_writer.add_summary(summary, epochs * len(a) + ibatch)  \n",
    "        print(\"Epoch: {}/{}...\".format(e+1, epochs),\n",
    "              \"Training loss: {:.4f}\".format(batch_cost))\n",
    "      \n",
    "    #show_reconstructed(sess,imgs[:10],decoded)\n",
    "writer.close()\n",
    "\n",
    "all_encodings = []\n",
    "for ibatch in range(0, len(configfiles), batch_size):\n",
    "    X_encode = sess.run(encoded,feed_dict={inputs_:X_batch.reshape((-1,32,32,3))})\n",
    "    all_encodings.append(X_encode)\n",
    "\n",
    "saver.save(sess, 'encode_model') \n",
    "\n",
    "\n",
    "sess.close()"
   ]
  },
  {
   "cell_type": "markdown",
   "metadata": {},
   "source": [
    "## Convert the embedding in a (None,256) dimensional array and save the encodings in a .npy file"
   ]
  },
  {
   "cell_type": "code",
   "execution_count": null,
   "metadata": {},
   "outputs": [],
   "source": [
    "all_encodings= np.array([batch.reshape(-1,8*8*4) for batch in all_encodings]).reshape(-1,8*8*4)"
   ]
  },
  {
   "cell_type": "code",
   "execution_count": null,
   "metadata": {},
   "outputs": [],
   "source": [
    "np.array(all_encodings).dump(open('training_encodings.npy', 'wb'))"
   ]
  },
  {
   "cell_type": "code",
   "execution_count": 11,
   "metadata": {},
   "outputs": [],
   "source": [
    "myArray = np.load(open('training_encodings.npy', 'rb'))"
   ]
  },
  {
   "cell_type": "code",
   "execution_count": null,
   "metadata": {},
   "outputs": [],
   "source": [
    "myArray.shape"
   ]
  },
  {
   "cell_type": "markdown",
   "metadata": {},
   "source": [
    "#  Reconstructions of the training images"
   ]
  },
  {
   "cell_type": "code",
   "execution_count": 11,
   "metadata": {},
   "outputs": [],
   "source": [
    "def show_reconstructed(sess,batch_x,decode_op):\n",
    "    fig, axes = plt.subplots(nrows=2, ncols=10, sharex=True, sharey=True, figsize=(20,4))\n",
    "    #in_imgs = X_batch\n",
    "    reconstructed = sess.run(decode_op, feed_dict={inputs_: batch_x.reshape((-1, 32, 32, 3))})\n",
    "\n",
    "    for images, row in zip([batch_x, reconstructed], axes):\n",
    "        for img, ax in zip(images, row):\n",
    "            ax.imshow(img.reshape((32, 32,3)))\n",
    "            ax.get_xaxis().set_visible(False)\n",
    "            ax.get_yaxis().set_visible(False)\n",
    "\n",
    "    fig.tight_layout(pad=0.1)\n",
    "    plt.show()"
   ]
  },
  {
   "cell_type": "code",
   "execution_count": 12,
   "metadata": {},
   "outputs": [],
   "source": [
    "path = '/home/aditya101993/celeb/data/celebA'\n",
    "\n",
    "configfiles = [os.path.join(subdir,f)\n",
    "for subdir, dirs, files in os.walk(path)\n",
    "    for f in fnmatch.filter(files, '*.jpg')]"
   ]
  },
  {
   "cell_type": "code",
   "execution_count": 13,
   "metadata": {},
   "outputs": [
    {
     "name": "stdout",
     "output_type": "stream",
     "text": [
      "/home/aditya101993/celeb\n"
     ]
    }
   ],
   "source": [
    "%cd $main_dir/celeb"
   ]
  },
  {
   "cell_type": "code",
   "execution_count": 16,
   "metadata": {},
   "outputs": [
    {
     "name": "stdout",
     "output_type": "stream",
     "text": [
      "INFO:tensorflow:Restoring parameters from ./encode_model\n"
     ]
    },
    {
     "data": {
      "image/png": "[encoded data removed]",
      "text/plain": [
       "<matplotlib.figure.Figure at 0x7f4ff8024650>"
      ]
     },
     "metadata": {},
     "output_type": "display_data"
    }
   ],
   "source": [
    "loaded_graph=tf.Graph()\n",
    "with tf.Session(graph=loaded_graph) as sess:\n",
    "    loader=tf.train.import_meta_graph('./encode_model.meta')\n",
    "    loader.restore(sess,tf.train.latest_checkpoint('./'))\n",
    "    inputs_=loaded_graph.get_tensor_by_name('Placeholder:0')\n",
    "    recon=loaded_graph.get_tensor_by_name('decoder/recon:0')\n",
    "    batch_x = get_batch(configfiles, 8, batch_size=10) \n",
    "    show_reconstructed(sess,batch_x,recon)"
   ]
  },
  {
   "cell_type": "markdown",
   "metadata": {},
   "source": [
    "# Generate Validation data's embeddings"
   ]
  },
  {
   "cell_type": "code",
   "execution_count": null,
   "metadata": {},
   "outputs": [],
   "source": [
    "sys.path.insert(1, os.path.join(sys.path[0], '..'))"
   ]
  },
  {
   "cell_type": "code",
   "execution_count": null,
   "metadata": {},
   "outputs": [],
   "source": [
    "g = glob.glob('*.jpg') #move 20 images randomly to validation set\n",
    "shuf = np.random.permutation(g)\n",
    "for i in range(20): os.rename(shuf[i], main_dir + '/valid/' + shuf[i])"
   ]
  },
  {
   "cell_type": "code",
   "execution_count": 49,
   "metadata": {},
   "outputs": [],
   "source": [
    "path = '/home/aditya101993/valid/'\n",
    "\n",
    "configfiles = [os.path.join(subdir,f)\n",
    "for subdir, dirs, files in os.walk(path)\n",
    "    for f in fnmatch.filter(files, '*.jpg')]"
   ]
  },
  {
   "cell_type": "code",
   "execution_count": 50,
   "metadata": {},
   "outputs": [],
   "source": [
    "def valid_get_batch(configfiles):    \n",
    "    \n",
    "       # print(image_name_list_batch)\n",
    "    import PIL.Image    \n",
    "    \n",
    "    img_data_list = []\n",
    "    for image_name in configfiles:\n",
    "        ImageFile.LOAD_TRUNCATED_IMAGES = True\n",
    "        img = PIL.Image.open(image_name)\n",
    "        img = resize(img)\n",
    "        img_data_list += [rescale( img2array(img) )]\n",
    "        \n",
    "    X_batch = np.asanyarray(img_data_list)\n",
    "    return (X_batch)"
   ]
  },
  {
   "cell_type": "code",
   "execution_count": 4,
   "metadata": {},
   "outputs": [],
   "source": [
    "#configfiles used to check the index of validation set images, uncomment it to use it."
   ]
  },
  {
   "cell_type": "code",
   "execution_count": 52,
   "metadata": {},
   "outputs": [
    {
     "name": "stdout",
     "output_type": "stream",
     "text": [
      "/home/aditya101993/celeb\n"
     ]
    }
   ],
   "source": [
    "%cd $main_dir/celeb"
   ]
  },
  {
   "cell_type": "code",
   "execution_count": 53,
   "metadata": {},
   "outputs": [
    {
     "name": "stdout",
     "output_type": "stream",
     "text": [
      "INFO:tensorflow:Restoring parameters from ./encode_model\n"
     ]
    }
   ],
   "source": [
    "loaded_graph=tf.Graph()\n",
    "with tf.Session(graph=loaded_graph) as sess:\n",
    "    loader=tf.train.import_meta_graph('./encode_model.meta')\n",
    "    loader.restore(sess,tf.train.latest_checkpoint('./'))\n",
    "    \n",
    "    #print([[n.name for n in tf.get_default_graph().as_graph_def().node if 'de-convo' in n.name]])\n",
    "    inputs_=loaded_graph.get_tensor_by_name('Placeholder:0')\n",
    "    encoding=loaded_graph.get_tensor_by_name('encoding/encoding/AvgPool:0')\n",
    "    recon=loaded_graph.get_tensor_by_name('decoder/recon:0')\n",
    "    \n",
    "    batch_x=valid_get_batch(configfiles)\n",
    "    validations=sess.run(encoding,feed_dict={inputs_:batch_x}) #50,8,8,4\n",
    "    validations=validations.reshape(-1,8*8*4)\n",
    "    #show_reconstructed(sess,batch_x,recon)"
   ]
  },
  {
   "cell_type": "markdown",
   "metadata": {},
   "source": [
    "# Model Testing on Dev set"
   ]
  },
  {
   "cell_type": "markdown",
   "metadata": {},
   "source": [
    "# Add gaussian blur to image,flip image, translate image and rotate image"
   ]
  },
  {
   "cell_type": "markdown",
   "metadata": {},
   "source": [
    "## Gaussian blur"
   ]
  },
  {
   "cell_type": "code",
   "execution_count": null,
   "metadata": {},
   "outputs": [],
   "source": [
    "image = Image.open('coll_lady.jpg')\n",
    "blurred=gaussian_filter(image,sigma=20) #applies gausian blur\n",
    "cv2.imwrite('coll_lady_blur.jpg',blurred)"
   ]
  },
  {
   "cell_type": "markdown",
   "metadata": {},
   "source": [
    "## Flipped image"
   ]
  },
  {
   "cell_type": "code",
   "execution_count": null,
   "metadata": {},
   "outputs": [],
   "source": [
    "img1 = Image.open(\"coll_lady.jpg\")\n",
    "img = Image.open(\"coll_lady.jpg\").transpose(Image.FLIP_LEFT_RIGHT)\n",
    "img.save('coll_lady_flip.jpg')"
   ]
  },
  {
   "cell_type": "markdown",
   "metadata": {},
   "source": [
    "## Translate image"
   ]
  },
  {
   "cell_type": "code",
   "execution_count": null,
   "metadata": {},
   "outputs": [],
   "source": [
    "img = Image.new('RGB', (10, 10), 'blue')\n",
    "a = 1\n",
    "b = 0\n",
    "c = 5#left/right (i.e. 50)\n",
    "d = 0\n",
    "e = 1\n",
    "f = 5 #up/down (i.e. 50)\n",
    "img = Image.open('coll_lady.jpg')\n",
    "img = img.transform(img.size, Image.AFFINE, (a, b, c, d, e, f))\n",
    "img.save('coll_lady_translated.jpg')"
   ]
  },
  {
   "cell_type": "markdown",
   "metadata": {},
   "source": [
    "## Rotate image"
   ]
  },
  {
   "cell_type": "code",
   "execution_count": null,
   "metadata": {},
   "outputs": [],
   "source": [
    "#rotation angle in degree\n",
    "image = PIL.Image.open('coll_lady.jpg')\n",
    "rotated = image.rotate(180).save('coll_lady_rotate.jpg')"
   ]
  },
  {
   "cell_type": "markdown",
   "metadata": {},
   "source": [
    "## calculate L2 distance on encodings of two images"
   ]
  },
  {
   "cell_type": "code",
   "execution_count": 54,
   "metadata": {},
   "outputs": [
    {
     "name": "stdout",
     "output_type": "stream",
     "text": [
      "/home/aditya101993/valid\n"
     ]
    }
   ],
   "source": [
    "%cd $main_dir/valid"
   ]
  },
  {
   "cell_type": "code",
   "execution_count": 57,
   "metadata": {
    "scrolled": true
   },
   "outputs": [
    {
     "data": {
      "image/jpeg": "[encoded data removed]",
      "text/plain": [
       "<IPython.core.display.Image object>"
      ]
     },
     "execution_count": 57,
     "metadata": {},
     "output_type": "execute_result"
    }
   ],
   "source": [
    "Image(filename='coll_lady.jpg') "
   ]
  },
  {
   "cell_type": "code",
   "execution_count": 58,
   "metadata": {
    "scrolled": true
   },
   "outputs": [
    {
     "data": {
      "image/jpeg": "[encoded data removed]",
      "text/plain": [
       "<IPython.core.display.Image object>"
      ]
     },
     "execution_count": 58,
     "metadata": {},
     "output_type": "execute_result"
    }
   ],
   "source": [
    "Image(filename='coll_lady_blur.jpg') "
   ]
  },
  {
   "cell_type": "code",
   "execution_count": 63,
   "metadata": {},
   "outputs": [
    {
     "data": {
      "text/plain": [
       "4.1069036"
      ]
     },
     "execution_count": 63,
     "metadata": {},
     "output_type": "execute_result"
    }
   ],
   "source": [
    "np.linalg.norm(validations[19]-validations[0])"
   ]
  },
  {
   "cell_type": "markdown",
   "metadata": {},
   "source": [
    "# Compare results with Phash"
   ]
  },
  {
   "cell_type": "code",
   "execution_count": 60,
   "metadata": {},
   "outputs": [],
   "source": [
    "img = PIL.Image.open('coll_lady.jpg')\n",
    "image1 = imagehash.phash(img)"
   ]
  },
  {
   "cell_type": "code",
   "execution_count": 64,
   "metadata": {},
   "outputs": [],
   "source": [
    "img = PIL.Image.open('088470.jpg')\n",
    "image2 = imagehash.phash(img)"
   ]
  },
  {
   "cell_type": "code",
   "execution_count": 65,
   "metadata": {},
   "outputs": [
    {
     "data": {
      "text/plain": [
       "34"
      ]
     },
     "execution_count": 65,
     "metadata": {},
     "output_type": "execute_result"
    }
   ],
   "source": [
    "image1-image2"
   ]
  }
 ],
 "metadata": {
  "kernelspec": {
   "display_name": "Python 2",
   "language": "python",
   "name": "python2"
  },
  "language_info": {
   "codemirror_mode": {
    "name": "ipython",
    "version": 2
   },
   "file_extension": ".py",
   "mimetype": "text/x-python",
   "name": "python",
   "nbconvert_exporter": "python",
   "pygments_lexer": "ipython2",
   "version": "2.7.12"
  }
 },
 "nbformat": 4,
 "nbformat_minor": 1
}
